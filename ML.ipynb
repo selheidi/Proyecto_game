{
 "cells": [
  {
   "cell_type": "code",
   "execution_count": 61,
   "id": "8b712832-656c-4565-9f93-6979cab161d5",
   "metadata": {
    "tags": []
   },
   "outputs": [],
   "source": [
    "import pandas as pd\n",
    "from sklearn.preprocessing import LabelEncoder\n",
    "import seaborn as sns\n",
    "import matplotlib.pyplot as plt\n"
   ]
  },
  {
   "cell_type": "code",
   "execution_count": 272,
   "id": "5924d173-f493-497c-859a-d534d0ec41a6",
   "metadata": {
    "tags": []
   },
   "outputs": [
    {
     "data": {
      "text/html": [
       "<div>\n",
       "<style scoped>\n",
       "    .dataframe tbody tr th:only-of-type {\n",
       "        vertical-align: middle;\n",
       "    }\n",
       "\n",
       "    .dataframe tbody tr th {\n",
       "        vertical-align: top;\n",
       "    }\n",
       "\n",
       "    .dataframe thead th {\n",
       "        text-align: right;\n",
       "    }\n",
       "</style>\n",
       "<table border=\"1\" class=\"dataframe\">\n",
       "  <thead>\n",
       "    <tr style=\"text-align: right;\">\n",
       "      <th></th>\n",
       "      <th>id</th>\n",
       "      <th>app_name</th>\n",
       "    </tr>\n",
       "  </thead>\n",
       "  <tbody>\n",
       "    <tr>\n",
       "      <th>0</th>\n",
       "      <td>761140.0</td>\n",
       "      <td>Lost Summoner Kitty</td>\n",
       "    </tr>\n",
       "    <tr>\n",
       "      <th>1</th>\n",
       "      <td>761140.0</td>\n",
       "      <td>Lost Summoner Kitty</td>\n",
       "    </tr>\n",
       "    <tr>\n",
       "      <th>2</th>\n",
       "      <td>761140.0</td>\n",
       "      <td>Lost Summoner Kitty</td>\n",
       "    </tr>\n",
       "    <tr>\n",
       "      <th>3</th>\n",
       "      <td>761140.0</td>\n",
       "      <td>Lost Summoner Kitty</td>\n",
       "    </tr>\n",
       "    <tr>\n",
       "      <th>4</th>\n",
       "      <td>761140.0</td>\n",
       "      <td>Lost Summoner Kitty</td>\n",
       "    </tr>\n",
       "    <tr>\n",
       "      <th>...</th>\n",
       "      <td>...</td>\n",
       "      <td>...</td>\n",
       "    </tr>\n",
       "    <tr>\n",
       "      <th>1924517</th>\n",
       "      <td>658870.0</td>\n",
       "      <td>EXIT 2 - Directions</td>\n",
       "    </tr>\n",
       "    <tr>\n",
       "      <th>1924518</th>\n",
       "      <td>658870.0</td>\n",
       "      <td>EXIT 2 - Directions</td>\n",
       "    </tr>\n",
       "    <tr>\n",
       "      <th>1924519</th>\n",
       "      <td>658870.0</td>\n",
       "      <td>EXIT 2 - Directions</td>\n",
       "    </tr>\n",
       "    <tr>\n",
       "      <th>1924520</th>\n",
       "      <td>658870.0</td>\n",
       "      <td>EXIT 2 - Directions</td>\n",
       "    </tr>\n",
       "    <tr>\n",
       "      <th>1924521</th>\n",
       "      <td>658870.0</td>\n",
       "      <td>EXIT 2 - Directions</td>\n",
       "    </tr>\n",
       "  </tbody>\n",
       "</table>\n",
       "<p>1924522 rows × 2 columns</p>\n",
       "</div>"
      ],
      "text/plain": [
       "               id             app_name\n",
       "0        761140.0  Lost Summoner Kitty\n",
       "1        761140.0  Lost Summoner Kitty\n",
       "2        761140.0  Lost Summoner Kitty\n",
       "3        761140.0  Lost Summoner Kitty\n",
       "4        761140.0  Lost Summoner Kitty\n",
       "...           ...                  ...\n",
       "1924517  658870.0  EXIT 2 - Directions\n",
       "1924518  658870.0  EXIT 2 - Directions\n",
       "1924519  658870.0  EXIT 2 - Directions\n",
       "1924520  658870.0  EXIT 2 - Directions\n",
       "1924521  658870.0  EXIT 2 - Directions\n",
       "\n",
       "[1924522 rows x 2 columns]"
      ]
     },
     "execution_count": 272,
     "metadata": {},
     "output_type": "execute_result"
    }
   ],
   "source": [
    "df_steam = pd.read_csv('df_EDA_steam_for_ML.csv')\n",
    "df_steam = df_steam [['id','app_name']]\n",
    "df_steam"
   ]
  },
  {
   "cell_type": "code",
   "execution_count": 273,
   "id": "5150866a-8b39-40c3-916f-bf55c369933e",
   "metadata": {
    "tags": []
   },
   "outputs": [
    {
     "data": {
      "text/html": [
       "<div>\n",
       "<style scoped>\n",
       "    .dataframe tbody tr th:only-of-type {\n",
       "        vertical-align: middle;\n",
       "    }\n",
       "\n",
       "    .dataframe tbody tr th {\n",
       "        vertical-align: top;\n",
       "    }\n",
       "\n",
       "    .dataframe thead th {\n",
       "        text-align: right;\n",
       "    }\n",
       "</style>\n",
       "<table border=\"1\" class=\"dataframe\">\n",
       "  <thead>\n",
       "    <tr style=\"text-align: right;\">\n",
       "      <th></th>\n",
       "      <th>user_id</th>\n",
       "      <th>id</th>\n",
       "      <th>sentiment</th>\n",
       "    </tr>\n",
       "  </thead>\n",
       "  <tbody>\n",
       "    <tr>\n",
       "      <th>0</th>\n",
       "      <td>76561197970982479</td>\n",
       "      <td>1250.0</td>\n",
       "      <td>2</td>\n",
       "    </tr>\n",
       "    <tr>\n",
       "      <th>1</th>\n",
       "      <td>76561197970982479</td>\n",
       "      <td>22200.0</td>\n",
       "      <td>2</td>\n",
       "    </tr>\n",
       "    <tr>\n",
       "      <th>2</th>\n",
       "      <td>76561197970982479</td>\n",
       "      <td>43110.0</td>\n",
       "      <td>2</td>\n",
       "    </tr>\n",
       "    <tr>\n",
       "      <th>3</th>\n",
       "      <td>js41637</td>\n",
       "      <td>251610.0</td>\n",
       "      <td>2</td>\n",
       "    </tr>\n",
       "    <tr>\n",
       "      <th>4</th>\n",
       "      <td>js41637</td>\n",
       "      <td>227300.0</td>\n",
       "      <td>0</td>\n",
       "    </tr>\n",
       "    <tr>\n",
       "      <th>...</th>\n",
       "      <td>...</td>\n",
       "      <td>...</td>\n",
       "      <td>...</td>\n",
       "    </tr>\n",
       "    <tr>\n",
       "      <th>48466</th>\n",
       "      <td>wayfeng</td>\n",
       "      <td>730.0</td>\n",
       "      <td>1</td>\n",
       "    </tr>\n",
       "    <tr>\n",
       "      <th>48467</th>\n",
       "      <td>76561198251004808</td>\n",
       "      <td>253980.0</td>\n",
       "      <td>2</td>\n",
       "    </tr>\n",
       "    <tr>\n",
       "      <th>48468</th>\n",
       "      <td>72947282842</td>\n",
       "      <td>730.0</td>\n",
       "      <td>0</td>\n",
       "    </tr>\n",
       "    <tr>\n",
       "      <th>48469</th>\n",
       "      <td>ApxLGhost</td>\n",
       "      <td>730.0</td>\n",
       "      <td>2</td>\n",
       "    </tr>\n",
       "    <tr>\n",
       "      <th>48470</th>\n",
       "      <td>76561198267374962</td>\n",
       "      <td>369200.0</td>\n",
       "      <td>2</td>\n",
       "    </tr>\n",
       "  </tbody>\n",
       "</table>\n",
       "<p>48471 rows × 3 columns</p>\n",
       "</div>"
      ],
      "text/plain": [
       "                 user_id        id  sentiment\n",
       "0      76561197970982479    1250.0          2\n",
       "1      76561197970982479   22200.0          2\n",
       "2      76561197970982479   43110.0          2\n",
       "3                js41637  251610.0          2\n",
       "4                js41637  227300.0          0\n",
       "...                  ...       ...        ...\n",
       "48466            wayfeng     730.0          1\n",
       "48467  76561198251004808  253980.0          2\n",
       "48468        72947282842     730.0          0\n",
       "48469          ApxLGhost     730.0          2\n",
       "48470  76561198267374962  369200.0          2\n",
       "\n",
       "[48471 rows x 3 columns]"
      ]
     },
     "execution_count": 273,
     "metadata": {},
     "output_type": "execute_result"
    }
   ],
   "source": [
    "df_reviews = pd.read_csv('df_EDA_reviews_for_ML.csv')\n",
    "df_reviews = df_reviews[['user_id', 'id', 'sentiment']]\n",
    "df_reviews"
   ]
  },
  {
   "cell_type": "code",
   "execution_count": 274,
   "id": "1ed22786-db6d-4502-9256-698f6e72cd80",
   "metadata": {
    "tags": []
   },
   "outputs": [],
   "source": [
    "df_reviews = df_reviews[['user_id', 'id', 'sentiment']].merge(df_steam[['id', 'app_name']], on='id', how='left')"
   ]
  },
  {
   "cell_type": "code",
   "execution_count": 275,
   "id": "afe8ed37-8064-4d3f-b8fa-9b92e4c02f7d",
   "metadata": {
    "tags": []
   },
   "outputs": [
    {
     "data": {
      "text/html": [
       "<div>\n",
       "<style scoped>\n",
       "    .dataframe tbody tr th:only-of-type {\n",
       "        vertical-align: middle;\n",
       "    }\n",
       "\n",
       "    .dataframe tbody tr th {\n",
       "        vertical-align: top;\n",
       "    }\n",
       "\n",
       "    .dataframe thead th {\n",
       "        text-align: right;\n",
       "    }\n",
       "</style>\n",
       "<table border=\"1\" class=\"dataframe\">\n",
       "  <thead>\n",
       "    <tr style=\"text-align: right;\">\n",
       "      <th></th>\n",
       "      <th>user_id</th>\n",
       "      <th>id</th>\n",
       "      <th>sentiment</th>\n",
       "      <th>app_name</th>\n",
       "    </tr>\n",
       "  </thead>\n",
       "  <tbody>\n",
       "    <tr>\n",
       "      <th>0</th>\n",
       "      <td>76561197970982479</td>\n",
       "      <td>1250.0</td>\n",
       "      <td>2</td>\n",
       "      <td>Killing Floor</td>\n",
       "    </tr>\n",
       "    <tr>\n",
       "      <th>1</th>\n",
       "      <td>76561197970982479</td>\n",
       "      <td>1250.0</td>\n",
       "      <td>2</td>\n",
       "      <td>Killing Floor</td>\n",
       "    </tr>\n",
       "    <tr>\n",
       "      <th>2</th>\n",
       "      <td>76561197970982479</td>\n",
       "      <td>1250.0</td>\n",
       "      <td>2</td>\n",
       "      <td>Killing Floor</td>\n",
       "    </tr>\n",
       "    <tr>\n",
       "      <th>3</th>\n",
       "      <td>76561197970982479</td>\n",
       "      <td>1250.0</td>\n",
       "      <td>2</td>\n",
       "      <td>Killing Floor</td>\n",
       "    </tr>\n",
       "    <tr>\n",
       "      <th>4</th>\n",
       "      <td>76561197970982479</td>\n",
       "      <td>1250.0</td>\n",
       "      <td>2</td>\n",
       "      <td>Killing Floor</td>\n",
       "    </tr>\n",
       "    <tr>\n",
       "      <th>...</th>\n",
       "      <td>...</td>\n",
       "      <td>...</td>\n",
       "      <td>...</td>\n",
       "      <td>...</td>\n",
       "    </tr>\n",
       "    <tr>\n",
       "      <th>13495767</th>\n",
       "      <td>ApxLGhost</td>\n",
       "      <td>730.0</td>\n",
       "      <td>2</td>\n",
       "      <td>Counter-Strike: Global Offensive</td>\n",
       "    </tr>\n",
       "    <tr>\n",
       "      <th>13495768</th>\n",
       "      <td>ApxLGhost</td>\n",
       "      <td>730.0</td>\n",
       "      <td>2</td>\n",
       "      <td>Counter-Strike: Global Offensive</td>\n",
       "    </tr>\n",
       "    <tr>\n",
       "      <th>13495769</th>\n",
       "      <td>ApxLGhost</td>\n",
       "      <td>730.0</td>\n",
       "      <td>2</td>\n",
       "      <td>Counter-Strike: Global Offensive</td>\n",
       "    </tr>\n",
       "    <tr>\n",
       "      <th>13495770</th>\n",
       "      <td>ApxLGhost</td>\n",
       "      <td>730.0</td>\n",
       "      <td>2</td>\n",
       "      <td>Counter-Strike: Global Offensive</td>\n",
       "    </tr>\n",
       "    <tr>\n",
       "      <th>13495771</th>\n",
       "      <td>76561198267374962</td>\n",
       "      <td>369200.0</td>\n",
       "      <td>2</td>\n",
       "      <td>NaN</td>\n",
       "    </tr>\n",
       "  </tbody>\n",
       "</table>\n",
       "<p>13495772 rows × 4 columns</p>\n",
       "</div>"
      ],
      "text/plain": [
       "                    user_id        id  sentiment  \\\n",
       "0         76561197970982479    1250.0          2   \n",
       "1         76561197970982479    1250.0          2   \n",
       "2         76561197970982479    1250.0          2   \n",
       "3         76561197970982479    1250.0          2   \n",
       "4         76561197970982479    1250.0          2   \n",
       "...                     ...       ...        ...   \n",
       "13495767          ApxLGhost     730.0          2   \n",
       "13495768          ApxLGhost     730.0          2   \n",
       "13495769          ApxLGhost     730.0          2   \n",
       "13495770          ApxLGhost     730.0          2   \n",
       "13495771  76561198267374962  369200.0          2   \n",
       "\n",
       "                                  app_name  \n",
       "0                            Killing Floor  \n",
       "1                            Killing Floor  \n",
       "2                            Killing Floor  \n",
       "3                            Killing Floor  \n",
       "4                            Killing Floor  \n",
       "...                                    ...  \n",
       "13495767  Counter-Strike: Global Offensive  \n",
       "13495768  Counter-Strike: Global Offensive  \n",
       "13495769  Counter-Strike: Global Offensive  \n",
       "13495770  Counter-Strike: Global Offensive  \n",
       "13495771                               NaN  \n",
       "\n",
       "[13495772 rows x 4 columns]"
      ]
     },
     "execution_count": 275,
     "metadata": {},
     "output_type": "execute_result"
    }
   ],
   "source": [
    "df_reviews"
   ]
  },
  {
   "cell_type": "code",
   "execution_count": 276,
   "id": "aa5b72c5-3c52-4519-98d9-a1d262cd7736",
   "metadata": {
    "tags": []
   },
   "outputs": [],
   "source": [
    "df_reviews = df_reviews.drop_duplicates()"
   ]
  },
  {
   "cell_type": "code",
   "execution_count": 277,
   "id": "4d989a5a-1126-4094-aab5-8cf2edff084e",
   "metadata": {
    "tags": []
   },
   "outputs": [],
   "source": [
    "df_reviews = df_reviews.rename(columns={'id': 'item_id'})\n"
   ]
  },
  {
   "cell_type": "code",
   "execution_count": 278,
   "id": "d7c391ec-a0b9-4ae2-921a-303819b0bc51",
   "metadata": {
    "tags": []
   },
   "outputs": [],
   "source": [
    "df_reviews = df_reviews.dropna(subset='app_name')"
   ]
  },
  {
   "cell_type": "code",
   "execution_count": 279,
   "id": "969ac7f7-c293-4b07-9d5b-913f79b048e7",
   "metadata": {
    "tags": []
   },
   "outputs": [],
   "source": [
    "df_reviews['app_name'] = df_reviews['app_name'].astype(str)"
   ]
  },
  {
   "cell_type": "code",
   "execution_count": 280,
   "id": "d4f9cd40-3f79-4c22-a482-059dcf6894f3",
   "metadata": {
    "tags": []
   },
   "outputs": [
    {
     "data": {
      "text/html": [
       "<div>\n",
       "<style scoped>\n",
       "    .dataframe tbody tr th:only-of-type {\n",
       "        vertical-align: middle;\n",
       "    }\n",
       "\n",
       "    .dataframe tbody tr th {\n",
       "        vertical-align: top;\n",
       "    }\n",
       "\n",
       "    .dataframe thead th {\n",
       "        text-align: right;\n",
       "    }\n",
       "</style>\n",
       "<table border=\"1\" class=\"dataframe\">\n",
       "  <thead>\n",
       "    <tr style=\"text-align: right;\">\n",
       "      <th></th>\n",
       "      <th>user_id</th>\n",
       "      <th>item_id</th>\n",
       "      <th>sentiment</th>\n",
       "      <th>app_name</th>\n",
       "    </tr>\n",
       "  </thead>\n",
       "  <tbody>\n",
       "    <tr>\n",
       "      <th>0</th>\n",
       "      <td>76561197970982479</td>\n",
       "      <td>1250.0</td>\n",
       "      <td>2</td>\n",
       "      <td>Killing Floor</td>\n",
       "    </tr>\n",
       "    <tr>\n",
       "      <th>200</th>\n",
       "      <td>76561197970982479</td>\n",
       "      <td>22200.0</td>\n",
       "      <td>2</td>\n",
       "      <td>Zeno Clash</td>\n",
       "    </tr>\n",
       "    <tr>\n",
       "      <th>306</th>\n",
       "      <td>js41637</td>\n",
       "      <td>227300.0</td>\n",
       "      <td>0</td>\n",
       "      <td>Euro Truck Simulator 2</td>\n",
       "    </tr>\n",
       "    <tr>\n",
       "      <th>546</th>\n",
       "      <td>js41637</td>\n",
       "      <td>239030.0</td>\n",
       "      <td>0</td>\n",
       "      <td>Papers, Please</td>\n",
       "    </tr>\n",
       "    <tr>\n",
       "      <th>786</th>\n",
       "      <td>evcentric</td>\n",
       "      <td>370360.0</td>\n",
       "      <td>2</td>\n",
       "      <td>TIS-100</td>\n",
       "    </tr>\n",
       "    <tr>\n",
       "      <th>...</th>\n",
       "      <td>...</td>\n",
       "      <td>...</td>\n",
       "      <td>...</td>\n",
       "      <td>...</td>\n",
       "    </tr>\n",
       "    <tr>\n",
       "      <th>13495080</th>\n",
       "      <td>76561198239215706</td>\n",
       "      <td>730.0</td>\n",
       "      <td>1</td>\n",
       "      <td>Counter-Strike: Global Offensive</td>\n",
       "    </tr>\n",
       "    <tr>\n",
       "      <th>13495240</th>\n",
       "      <td>wayfeng</td>\n",
       "      <td>730.0</td>\n",
       "      <td>1</td>\n",
       "      <td>Counter-Strike: Global Offensive</td>\n",
       "    </tr>\n",
       "    <tr>\n",
       "      <th>13495400</th>\n",
       "      <td>76561198251004808</td>\n",
       "      <td>253980.0</td>\n",
       "      <td>2</td>\n",
       "      <td>Enclave</td>\n",
       "    </tr>\n",
       "    <tr>\n",
       "      <th>13495451</th>\n",
       "      <td>72947282842</td>\n",
       "      <td>730.0</td>\n",
       "      <td>0</td>\n",
       "      <td>Counter-Strike: Global Offensive</td>\n",
       "    </tr>\n",
       "    <tr>\n",
       "      <th>13495611</th>\n",
       "      <td>ApxLGhost</td>\n",
       "      <td>730.0</td>\n",
       "      <td>2</td>\n",
       "      <td>Counter-Strike: Global Offensive</td>\n",
       "    </tr>\n",
       "  </tbody>\n",
       "</table>\n",
       "<p>40229 rows × 4 columns</p>\n",
       "</div>"
      ],
      "text/plain": [
       "                    user_id   item_id  sentiment  \\\n",
       "0         76561197970982479    1250.0          2   \n",
       "200       76561197970982479   22200.0          2   \n",
       "306                 js41637  227300.0          0   \n",
       "546                 js41637  239030.0          0   \n",
       "786               evcentric  370360.0          2   \n",
       "...                     ...       ...        ...   \n",
       "13495080  76561198239215706     730.0          1   \n",
       "13495240            wayfeng     730.0          1   \n",
       "13495400  76561198251004808  253980.0          2   \n",
       "13495451        72947282842     730.0          0   \n",
       "13495611          ApxLGhost     730.0          2   \n",
       "\n",
       "                                  app_name  \n",
       "0                            Killing Floor  \n",
       "200                             Zeno Clash  \n",
       "306                 Euro Truck Simulator 2  \n",
       "546                         Papers, Please  \n",
       "786                                TIS-100  \n",
       "...                                    ...  \n",
       "13495080  Counter-Strike: Global Offensive  \n",
       "13495240  Counter-Strike: Global Offensive  \n",
       "13495400                           Enclave  \n",
       "13495451  Counter-Strike: Global Offensive  \n",
       "13495611  Counter-Strike: Global Offensive  \n",
       "\n",
       "[40229 rows x 4 columns]"
      ]
     },
     "execution_count": 280,
     "metadata": {},
     "output_type": "execute_result"
    }
   ],
   "source": [
    "df_reviews "
   ]
  },
  {
   "cell_type": "code",
   "execution_count": 282,
   "id": "70fc85c6-ea4f-49a2-8b51-cfa1f6fe2799",
   "metadata": {
    "tags": []
   },
   "outputs": [],
   "source": [
    "df = df_reviews\n",
    "df.to_csv('df_ML.csv')\n"
   ]
  },
  {
   "cell_type": "markdown",
   "id": "0777fbdb-6e77-43f0-a3cf-4fc7bd28a317",
   "metadata": {},
   "source": [
    "Filtrado Colaborativo para el sistema de recomendación user-item\n",
    "Uso la biblioteca Surprise para entrenar el modelo.\n",
    "\n",
    "\n",
    "    Use a custom dataset\n",
    "    Surprise has a set of builtin datasets, but you can of course use a custom dataset. Loading a rating dataset can be done either from a file (e.g. a csv file), or from a pandas dataframe. To load a dataset from a pandas dataframe, you will need the load_from_df() method. You will also need a Reader object, but only the rating_scale parameter must be specified. The dataframe must have three columns, corresponding to the user (raw) ids, the item (raw) ids, and the ratings in this order. Each row thus corresponds to a given rating. This is not restrictive as you can reorder the columns of your dataframe easily.\n",
    "\n",
    "    "
   ]
  },
  {
   "cell_type": "code",
   "execution_count": 283,
   "id": "59061a52-adc4-42fd-8137-32595c061735",
   "metadata": {
    "tags": []
   },
   "outputs": [],
   "source": [
    "from surprise import Dataset\n",
    "from surprise import Reader\n",
    "from surprise import accuracy, SVD\n",
    "from surprise.model_selection import train_test_split\n",
    "import joblib\n",
    "from surprise import SVD\n",
    "from surprise.model_selection import cross_validate"
   ]
  },
  {
   "cell_type": "code",
   "execution_count": 284,
   "id": "f6b14039-72d6-489a-ae4c-b92071a46f9b",
   "metadata": {
    "tags": []
   },
   "outputs": [
    {
     "data": {
      "text/html": [
       "<div>\n",
       "<style scoped>\n",
       "    .dataframe tbody tr th:only-of-type {\n",
       "        vertical-align: middle;\n",
       "    }\n",
       "\n",
       "    .dataframe tbody tr th {\n",
       "        vertical-align: top;\n",
       "    }\n",
       "\n",
       "    .dataframe thead th {\n",
       "        text-align: right;\n",
       "    }\n",
       "</style>\n",
       "<table border=\"1\" class=\"dataframe\">\n",
       "  <thead>\n",
       "    <tr style=\"text-align: right;\">\n",
       "      <th></th>\n",
       "      <th>Unnamed: 0</th>\n",
       "      <th>user_id</th>\n",
       "      <th>item_id</th>\n",
       "      <th>sentiment</th>\n",
       "      <th>app_name</th>\n",
       "    </tr>\n",
       "  </thead>\n",
       "  <tbody>\n",
       "    <tr>\n",
       "      <th>0</th>\n",
       "      <td>0</td>\n",
       "      <td>76561197970982479</td>\n",
       "      <td>1250.0</td>\n",
       "      <td>2</td>\n",
       "      <td>Killing Floor</td>\n",
       "    </tr>\n",
       "    <tr>\n",
       "      <th>1</th>\n",
       "      <td>200</td>\n",
       "      <td>76561197970982479</td>\n",
       "      <td>22200.0</td>\n",
       "      <td>2</td>\n",
       "      <td>Zeno Clash</td>\n",
       "    </tr>\n",
       "    <tr>\n",
       "      <th>2</th>\n",
       "      <td>306</td>\n",
       "      <td>js41637</td>\n",
       "      <td>227300.0</td>\n",
       "      <td>0</td>\n",
       "      <td>Euro Truck Simulator 2</td>\n",
       "    </tr>\n",
       "    <tr>\n",
       "      <th>3</th>\n",
       "      <td>546</td>\n",
       "      <td>js41637</td>\n",
       "      <td>239030.0</td>\n",
       "      <td>0</td>\n",
       "      <td>Papers, Please</td>\n",
       "    </tr>\n",
       "    <tr>\n",
       "      <th>4</th>\n",
       "      <td>786</td>\n",
       "      <td>evcentric</td>\n",
       "      <td>370360.0</td>\n",
       "      <td>2</td>\n",
       "      <td>TIS-100</td>\n",
       "    </tr>\n",
       "    <tr>\n",
       "      <th>...</th>\n",
       "      <td>...</td>\n",
       "      <td>...</td>\n",
       "      <td>...</td>\n",
       "      <td>...</td>\n",
       "      <td>...</td>\n",
       "    </tr>\n",
       "    <tr>\n",
       "      <th>40224</th>\n",
       "      <td>13495080</td>\n",
       "      <td>76561198239215706</td>\n",
       "      <td>730.0</td>\n",
       "      <td>1</td>\n",
       "      <td>Counter-Strike: Global Offensive</td>\n",
       "    </tr>\n",
       "    <tr>\n",
       "      <th>40225</th>\n",
       "      <td>13495240</td>\n",
       "      <td>wayfeng</td>\n",
       "      <td>730.0</td>\n",
       "      <td>1</td>\n",
       "      <td>Counter-Strike: Global Offensive</td>\n",
       "    </tr>\n",
       "    <tr>\n",
       "      <th>40226</th>\n",
       "      <td>13495400</td>\n",
       "      <td>76561198251004808</td>\n",
       "      <td>253980.0</td>\n",
       "      <td>2</td>\n",
       "      <td>Enclave</td>\n",
       "    </tr>\n",
       "    <tr>\n",
       "      <th>40227</th>\n",
       "      <td>13495451</td>\n",
       "      <td>72947282842</td>\n",
       "      <td>730.0</td>\n",
       "      <td>0</td>\n",
       "      <td>Counter-Strike: Global Offensive</td>\n",
       "    </tr>\n",
       "    <tr>\n",
       "      <th>40228</th>\n",
       "      <td>13495611</td>\n",
       "      <td>ApxLGhost</td>\n",
       "      <td>730.0</td>\n",
       "      <td>2</td>\n",
       "      <td>Counter-Strike: Global Offensive</td>\n",
       "    </tr>\n",
       "  </tbody>\n",
       "</table>\n",
       "<p>40229 rows × 5 columns</p>\n",
       "</div>"
      ],
      "text/plain": [
       "       Unnamed: 0            user_id   item_id  sentiment  \\\n",
       "0               0  76561197970982479    1250.0          2   \n",
       "1             200  76561197970982479   22200.0          2   \n",
       "2             306            js41637  227300.0          0   \n",
       "3             546            js41637  239030.0          0   \n",
       "4             786          evcentric  370360.0          2   \n",
       "...           ...                ...       ...        ...   \n",
       "40224    13495080  76561198239215706     730.0          1   \n",
       "40225    13495240            wayfeng     730.0          1   \n",
       "40226    13495400  76561198251004808  253980.0          2   \n",
       "40227    13495451        72947282842     730.0          0   \n",
       "40228    13495611          ApxLGhost     730.0          2   \n",
       "\n",
       "                               app_name  \n",
       "0                         Killing Floor  \n",
       "1                            Zeno Clash  \n",
       "2                Euro Truck Simulator 2  \n",
       "3                        Papers, Please  \n",
       "4                               TIS-100  \n",
       "...                                 ...  \n",
       "40224  Counter-Strike: Global Offensive  \n",
       "40225  Counter-Strike: Global Offensive  \n",
       "40226                           Enclave  \n",
       "40227  Counter-Strike: Global Offensive  \n",
       "40228  Counter-Strike: Global Offensive  \n",
       "\n",
       "[40229 rows x 5 columns]"
      ]
     },
     "execution_count": 284,
     "metadata": {},
     "output_type": "execute_result"
    }
   ],
   "source": [
    "df = pd.read_csv('df_ML.csv')\n",
    "df"
   ]
  },
  {
   "cell_type": "markdown",
   "id": "8f767b2a-1c25-4290-a580-7789af91a6e9",
   "metadata": {},
   "source": [
    "Instanciamos la clase Reader() y definimos la escala de sentiment"
   ]
  },
  {
   "cell_type": "code",
   "execution_count": 285,
   "id": "e37c756f-d9a6-4b2b-a19c-809c5a5df911",
   "metadata": {
    "tags": []
   },
   "outputs": [],
   "source": [
    "reader = Reader(rating_scale=(df['sentiment'].min(), df['sentiment'].max()))"
   ]
  },
  {
   "cell_type": "markdown",
   "id": "4a0b5747-de67-4db4-9ed2-8d256dc59004",
   "metadata": {},
   "source": [
    "Abro el Dataset usando Dataset.load_from_df"
   ]
  },
  {
   "cell_type": "code",
   "execution_count": 286,
   "id": "605b6200-797c-45b5-895b-45e1abd8549f",
   "metadata": {
    "tags": []
   },
   "outputs": [],
   "source": [
    "data = Dataset.load_from_df(df[['user_id', 'item_id', 'sentiment']], reader)\n",
    "\n",
    "#data = Dataset.load_from_file(file_path, reader=reader) otra opcion\n"
   ]
  },
  {
   "cell_type": "markdown",
   "id": "04172bd2-dca8-4b34-aebe-5071c32109bb",
   "metadata": {},
   "source": [
    "Train-test split and the fit() method\n",
    "If you don’t want to run a full cross-validation procedure, you can use the train_test_split() to sample a trainset and a testset with given sizes, and use the accuracy metric of your chosing. You’ll need to use the fit() method which will train the algorithm on the trainset, and the test() method which will return the predictions made from the testset:"
   ]
  },
  {
   "cell_type": "markdown",
   "id": "8f36a24d-48e7-448f-8a61-b02beaec15c7",
   "metadata": {},
   "source": [
    "Separo el data con tran_test_split, dejando un 30% de la data para test."
   ]
  },
  {
   "cell_type": "code",
   "execution_count": 307,
   "id": "d2d425f6-fe72-4c5c-8cfd-e1aacda01103",
   "metadata": {
    "tags": []
   },
   "outputs": [],
   "source": [
    "trainset, testset = train_test_split(data, test_size=.30)"
   ]
  },
  {
   "cell_type": "markdown",
   "id": "d41e8a24-d732-4a2d-b665-c5219fd2a347",
   "metadata": {},
   "source": [
    "Entrenamiento Opcion I"
   ]
  },
  {
   "cell_type": "code",
   "execution_count": 308,
   "id": "5aa0f7ec-09cd-4ff3-9da0-5275bfdf7bb5",
   "metadata": {
    "tags": []
   },
   "outputs": [
    {
     "name": "stdout",
     "output_type": "stream",
     "text": [
      "RMSE: 0.8060\n"
     ]
    },
    {
     "data": {
      "text/plain": [
       "0.8059812215572201"
      ]
     },
     "execution_count": 308,
     "metadata": {},
     "output_type": "execute_result"
    }
   ],
   "source": [
    "# We'll use the famous SVD algorithm.\n",
    "algo = SVD()\n",
    "\n",
    "# Train the algorithm on the trainset, and predict ratings for the testset\n",
    "algo.fit(trainset)\n",
    "predictions = algo.test(testset)\n",
    "\n",
    "# Then compute RMSE\n",
    "accuracy.rmse(predictions)\n",
    "\n"
   ]
  },
  {
   "cell_type": "markdown",
   "id": "44dede0e-54f3-47ce-b5f5-739fba37d2ab",
   "metadata": {},
   "source": [
    "Entrenamiento Opcion II"
   ]
  },
  {
   "cell_type": "markdown",
   "id": "425515fc-76d8-4c1c-8071-457f25910b9e",
   "metadata": {},
   "source": [
    "evaluación del rendimiento de un algoritmo  SVD (Singular Value Decomposition) en un proceso de validación cruzada con 3 divisiones (folds). La validación cruzada se utiliza comúnmente en machine learning para evaluar el rendimiento de un modelo de manera más robusta"
   ]
  },
  {
   "cell_type": "code",
   "execution_count": 289,
   "id": "cc51a656-d8a4-4bf9-b1af-fdf12a34f92e",
   "metadata": {
    "tags": []
   },
   "outputs": [
    {
     "name": "stdout",
     "output_type": "stream",
     "text": [
      "Processing epoch 0\n",
      "Processing epoch 1\n",
      "Processing epoch 2\n",
      "Processing epoch 3\n",
      "Processing epoch 4\n",
      "Processing epoch 5\n",
      "Processing epoch 6\n",
      "Processing epoch 7\n",
      "Processing epoch 8\n",
      "Processing epoch 9\n",
      "Processing epoch 0\n",
      "Processing epoch 1\n",
      "Processing epoch 2\n",
      "Processing epoch 3\n",
      "Processing epoch 4\n",
      "Processing epoch 5\n",
      "Processing epoch 6\n",
      "Processing epoch 7\n",
      "Processing epoch 8\n",
      "Processing epoch 9\n",
      "Processing epoch 0\n",
      "Processing epoch 1\n",
      "Processing epoch 2\n",
      "Processing epoch 3\n",
      "Processing epoch 4\n",
      "Processing epoch 5\n",
      "Processing epoch 6\n",
      "Processing epoch 7\n",
      "Processing epoch 8\n",
      "Processing epoch 9\n",
      "Evaluating RMSE, MAE of algorithm SVD on 3 split(s).\n",
      "\n",
      "                  Fold 1  Fold 2  Fold 3  Mean    Std     \n",
      "RMSE (testset)    0.8098  0.7984  0.8042  0.8041  0.0047  \n",
      "MAE (testset)     0.7184  0.7098  0.7130  0.7138  0.0036  \n",
      "Fit time          0.25    0.27    0.28    0.27    0.01    \n",
      "Test time         0.12    0.12    0.10    0.12    0.01    \n"
     ]
    },
    {
     "data": {
      "text/plain": [
       "{'test_rmse': array([0.80982732, 0.79839574, 0.80421531]),\n",
       " 'test_mae': array([0.7184348 , 0.70981181, 0.71303112]),\n",
       " 'fit_time': (0.25205016136169434, 0.2655019760131836, 0.2809407711029053),\n",
       " 'test_time': (0.12261962890625, 0.11882567405700684, 0.10443878173828125)}"
      ]
     },
     "execution_count": 289,
     "metadata": {},
     "output_type": "execute_result"
    }
   ],
   "source": [
    "#creo svd\n",
    "svd = SVD(verbose=True, n_epochs=10)\n",
    "cross_validate(svd, data, measures=['RMSE', 'MAE'], cv=3, verbose=True)"
   ]
  },
  {
   "cell_type": "markdown",
   "id": "c6c04a3e-9031-4c7e-80e6-ed1f89f38174",
   "metadata": {},
   "source": [
    "Entrenamiento del modelo SVD\n"
   ]
  },
  {
   "cell_type": "markdown",
   "id": "21be897f-88dc-413d-8e4d-a4ceb9ff7b8e",
   "metadata": {},
   "source": [
    "Generación de predicciones de calificación/score.\n",
    "    \n",
    "    Predecimos sobre el testset, ya que no lo conoce el modelo creado SVD"
   ]
  },
  {
   "cell_type": "code",
   "execution_count": 290,
   "id": "419c5f07-3c21-4412-a0a3-01b7ecaa2b3f",
   "metadata": {
    "tags": []
   },
   "outputs": [
    {
     "name": "stdout",
     "output_type": "stream",
     "text": [
      "Processing epoch 0\n",
      "Processing epoch 1\n",
      "Processing epoch 2\n",
      "Processing epoch 3\n",
      "Processing epoch 4\n",
      "Processing epoch 5\n",
      "Processing epoch 6\n",
      "Processing epoch 7\n",
      "Processing epoch 8\n",
      "Processing epoch 9\n"
     ]
    },
    {
     "data": {
      "text/plain": [
       "<surprise.prediction_algorithms.matrix_factorization.SVD at 0x222d9fc6110>"
      ]
     },
     "execution_count": 290,
     "metadata": {},
     "output_type": "execute_result"
    }
   ],
   "source": [
    "svd.fit(trainset)"
   ]
  },
  {
   "cell_type": "code",
   "execution_count": 291,
   "id": "16df6dbd-31b0-4e30-918b-97be44a2c8f1",
   "metadata": {
    "tags": []
   },
   "outputs": [],
   "source": [
    "predictions = svd.test(testset)\n"
   ]
  },
  {
   "cell_type": "code",
   "execution_count": 292,
   "id": "251faae0-4098-4a7d-82d6-86ebb931011a",
   "metadata": {
    "tags": []
   },
   "outputs": [
    {
     "name": "stdout",
     "output_type": "stream",
     "text": [
      "user: 76561198085788881 item: 322170.0   r_ui = 2.00   est = 1.40   {'was_impossible': False}\n",
      "user: 76561198165512984 item: 730.0      r_ui = 0.00   est = 1.36   {'was_impossible': False}\n"
     ]
    }
   ],
   "source": [
    "print(predictions [1])\n",
    "print(predictions [100])"
   ]
  },
  {
   "cell_type": "markdown",
   "id": "a6e5f688-584b-49f0-9238-42b20b201fd9",
   "metadata": {
    "tags": []
   },
   "source": [
    "Guardamos el modelo desarrollado\n"
   ]
  },
  {
   "cell_type": "code",
   "execution_count": 309,
   "id": "440f7441-e22e-456d-9541-5427c87c7b4f",
   "metadata": {
    "tags": []
   },
   "outputs": [
    {
     "data": {
      "text/plain": [
       "['modelo_svd_II.pkl']"
      ]
     },
     "execution_count": 309,
     "metadata": {},
     "output_type": "execute_result"
    }
   ],
   "source": [
    "\n",
    "\n",
    "joblib.dump(algo, 'modelo_svd_I.pkl')\n",
    "\n",
    "\n",
    "# Suponiendo que 'modelo_svd' es tu modelo entrenado SVD\n",
    "joblib.dump(svd, 'modelo_svd_II.pkl')\n",
    "\n"
   ]
  },
  {
   "cell_type": "code",
   "execution_count": null,
   "id": "eba28f78-290e-42b0-b8ab-c48f3a4dde3d",
   "metadata": {},
   "outputs": [],
   "source": []
  },
  {
   "cell_type": "markdown",
   "id": "99d221b4-fb2e-42d9-8993-7b43a56cdbac",
   "metadata": {},
   "source": [
    "Usar el modelo  para predecir la calificación de una juego"
   ]
  },
  {
   "cell_type": "code",
   "execution_count": 310,
   "id": "bc6a02c8-a40f-41cf-baab-2f3ec4107a75",
   "metadata": {
    "tags": []
   },
   "outputs": [],
   "source": [
    "def  recomendacion_usuario(user_id:str):\n",
    "    modelo_svd = joblib.load('modelo_svd_I.pkl')\n",
    "    df\n",
    "    top=5\n",
    "\n",
    "    \"\"\"\n",
    "   Esta funcion devuelve los 5 videojuegos que le gustaran al usuario ingresado \n",
    "   del DataFrame user_reviews de Steam Games.\n",
    "\n",
    "    Args:\n",
    "    - user_id: id del usuario para el cual se generarán las recomendaciones\n",
    "\n",
    "    Returns:\n",
    "    - lista de 5 videojuegos recomendados para el usuario elegido\n",
    "    \"\"\"\n",
    "\n",
    "    # Obtener las películas que el usuario no ha visto aún\n",
    "    games_play = set(df[df['user_id'] == user_id]['item_id'])\n",
    "    games_all = set(df['item_id'])\n",
    "    games_unplay = list(games_all - games_play)\n",
    "\n",
    "    # Obtener las recomendaciones\n",
    "    predicted_ratings = [modelo_svd.predict(user_id, item_id).est for item_id in games_unplay]\n",
    "\n",
    "    # Ordenar los juegos según su predicción de rating\n",
    "    games_rating = list(zip(games_unplay, predicted_ratings))\n",
    "    games_rating.sort(key=lambda x: x[1], reverse=True)\n",
    "\n",
    "    # Obtener los títulos de los juegos recomendadas\n",
    "    recommended_games = games_rating[:top]\n",
    "    recommended_games = [df[df['item_id'] == item_id]['app_name'].iloc[0] for item_id, _ in recommended_games]\n",
    "\n",
    "    return {\n",
    "        \"recomended_games\": recommended_games,\n",
    "        \"user_id\": user_id,\n",
    "        \"top\": 5\n",
    "    }"
   ]
  },
  {
   "cell_type": "code",
   "execution_count": 235,
   "id": "1da7326d-1afa-491d-8517-37fce2fec879",
   "metadata": {
    "tags": []
   },
   "outputs": [
    {
     "data": {
      "text/plain": [
       "{'recomended_games': ['Transistor',\n",
       "  'Bastion',\n",
       "  'The Wolf Among Us',\n",
       "  'Shadow Warrior',\n",
       "  'RIFT'],\n",
       " 'user_id': 76561198069536565,\n",
       " 'top': 5}"
      ]
     },
     "execution_count": 235,
     "metadata": {},
     "output_type": "execute_result"
    }
   ],
   "source": [
    "#recomendacion_usuario(76561198069536565)\n",
    "#opcion dos deberia cambiar el nombre del archivo pkl en la funcion  \n",
    "#'modelo_svd_II.pkl'"
   ]
  },
  {
   "cell_type": "code",
   "execution_count": 311,
   "id": "58afb0d4-2e20-4ffd-a0bf-ee186b3aa0f8",
   "metadata": {
    "tags": []
   },
   "outputs": [
    {
     "data": {
      "text/plain": [
       "{'recomended_games': ['Gunpoint',\n",
       "  \"King Arthur's Gold\",\n",
       "  'RIFT',\n",
       "  \"The Witcher: Enhanced Edition Director's Cut\",\n",
       "  'Trine 2: Complete Story'],\n",
       " 'user_id': 76561198069536565,\n",
       " 'top': 5}"
      ]
     },
     "execution_count": 311,
     "metadata": {},
     "output_type": "execute_result"
    }
   ],
   "source": [
    "recomendacion_usuario( 76561198069536565)"
   ]
  }
 ],
 "metadata": {
  "kernelspec": {
   "display_name": "Python 3 (ipykernel)",
   "language": "python",
   "name": "python3"
  },
  "language_info": {
   "codemirror_mode": {
    "name": "ipython",
    "version": 3
   },
   "file_extension": ".py",
   "mimetype": "text/x-python",
   "name": "python",
   "nbconvert_exporter": "python",
   "pygments_lexer": "ipython3",
   "version": "3.11.5"
  }
 },
 "nbformat": 4,
 "nbformat_minor": 5
}
